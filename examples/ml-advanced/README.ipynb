{
 "cells": [
  {
   "cell_type": "markdown",
   "id": "4f8bbf61",
   "metadata": {
    "papermill": {
     "duration": 0.016224,
     "end_time": "2021-10-28T01:34:34.679098",
     "exception": false,
     "start_time": "2021-10-28T01:34:34.662874",
     "status": "completed"
    },
    "tags": []
   },
   "source": [
    "To run this example locally, [install Ploomber](https://ploomber.readthedocs.io/en/latest/get-started/install.html) and execute: `ploomber examples -n templates/ml-advanced`\n",
    "\n",
    "To start a free, hosted JupyterLab: [![binder-logo](https://mybinder.org/badge_logo.svg)](https://mybinder.org/v2/gh/ploomber/binder-env/main?urlpath=git-pull%3Frepo%3Dhttps%253A%252F%252Fgithub.com%252Fploomber%252Fprojects%26urlpath%3Dlab%252Ftree%252Fprojects%252Ftemplates/ml-advanced%252FREADME.ipynb%26branch%3Dmaster)\n",
    "\n",
    "Found an issue? [Let us know.](https://github.com/ploomber/projects/issues/new?title=templates/ml-advanced%20issue)\n",
    "\n",
    "Have questions? [Ask us anything on Slack.](https://ploomber.io/community/)\n"
   ]
  },
  {
   "cell_type": "markdown",
   "id": "fff1ac56",
   "metadata": {
    "papermill": {
     "duration": 0.014998,
     "end_time": "2021-10-28T01:34:34.709583",
     "exception": false,
     "start_time": "2021-10-28T01:34:34.694585",
     "status": "completed"
    },
    "tags": []
   },
   "source": [
    "# ML advanced\n",
    "\n",
    "<!-- start description -->\n",
    "ML pipeline using the Python API. Shows how to create a Python package, test it with pytest, and train models in parallel.\n",
    "<!-- end description -->\n",
    "\n",
    "## Build"
   ]
  },
  {
   "cell_type": "code",
   "execution_count": 1,
   "id": "fa2e95a8",
   "metadata": {
    "execution": {
     "iopub.execute_input": "2021-10-28T01:34:34.755642Z",
     "iopub.status.busy": "2021-10-28T01:34:34.754656Z",
     "iopub.status.idle": "2021-10-28T01:35:17.177417Z",
     "shell.execute_reply": "2021-10-28T01:35:17.175059Z"
    },
    "papermill": {
     "duration": 42.451428,
     "end_time": "2021-10-28T01:35:17.177928",
     "exception": false,
     "start_time": "2021-10-28T01:34:34.726500",
     "status": "completed"
    },
    "tags": []
   },
   "outputs": [
    {
     "name": "stdout",
     "output_type": "stream",
     "text": [
      "Finished tasks so far: \n",
      "Remaining tasks: {'fit-ml-advanced--models--logistic-reg', 'fit-sklearn--ensemble--RandomForestClassifier', 'features', 'join', 'get', 'fit-ml-advanced--models--svc'}\n",
      "Finished 0 out of 6 tasks\n",
      "Finished tasks so far: \n",
      "Remaining tasks: {'fit-ml-advanced--models--logistic-reg', 'fit-sklearn--ensemble--RandomForestClassifier', 'features', 'join', 'get', 'fit-ml-advanced--models--svc'}\n",
      "Finished 0 out of 6 tasks\n",
      "Finished tasks so far: {'get', 'features', 'join'}\n",
      "Remaining tasks: {'fit-ml-advanced--models--logistic-reg', 'fit-sklearn--ensemble--RandomForestClassifier', 'fit-ml-advanced--models--svc'}\n",
      "Finished 3 out of 6 tasks\n",
      "Finished tasks so far: {'get', 'features', 'join'}\n",
      "Remaining tasks: {'fit-ml-advanced--models--logistic-reg', 'fit-sklearn--ensemble--RandomForestClassifier', 'fit-ml-advanced--models--svc'}\n",
      "Finished 3 out of 6 tasks\n",
      "name                                Ran?      Elapsed (s)    Percentage\n",
      "----------------------------------  ------  -------------  ------------\n",
      "get                                 True         0.458276     0.544844\n",
      "features                            True         0.034158     0.0406105\n",
      "join                                True         0.012356     0.0146901\n",
      "fit-sklearn--ensemble--             True        30.3706      36.1076\n",
      "RandomForestClassifier\n",
      "fit-ml-advanced--models--logistic-  True        26.6011      31.626\n",
      "reg\n",
      "fit-ml-advanced--models--svc        True        26.6349      31.6662\n"
     ]
    },
    {
     "name": "stderr",
     "output_type": "stream",
     "text": [
      "\r",
      "Executing:   0%|          | 0/15 [00:00<?, ?cell/s]\r",
      "Executing:   7%|▋         | 1/15 [00:01<00:23,  1.64s/cell]\r",
      "Executing:  13%|█▎        | 2/15 [00:04<00:29,  2.23s/cell]\r",
      "Executing:  20%|██        | 3/15 [00:04<00:15,  1.29s/cell]\r",
      "Executing:   0%|          | 0/15 [00:00<?, ?cell/s]\r",
      "Executing:   0%|          | 0/15 [00:00<?, ?cell/s]\r",
      "Executing:  27%|██▋       | 4/15 [00:04<00:09,  1.19cell/s]\r",
      "Executing:  33%|███▎      | 5/15 [00:04<00:06,  1.62cell/s]\r",
      "Executing:  40%|████      | 6/15 [00:05<00:05,  1.62cell/s]\r",
      "Executing:  47%|████▋     | 7/15 [00:05<00:04,  1.85cell/s]\r",
      "Executing:  53%|█████▎    | 8/15 [00:06<00:03,  2.20cell/s]\r",
      "Executing:   7%|▋         | 1/15 [00:04<01:00,  4.33s/cell]\r",
      "Executing:   7%|▋         | 1/15 [00:04<01:00,  4.33s/cell]\r",
      "Executing:  13%|█▎        | 2/15 [00:08<00:55,  4.25s/cell]\r",
      "Executing:  13%|█▎        | 2/15 [00:08<00:55,  4.27s/cell]\r",
      "Executing:  20%|██        | 3/15 [00:08<00:29,  2.42s/cell]\r",
      "Executing:  20%|██        | 3/15 [00:08<00:29,  2.42s/cell]\r",
      "Executing:  27%|██▋       | 4/15 [00:08<00:16,  1.53s/cell]\r",
      "Executing:  27%|██▋       | 4/15 [00:08<00:16,  1.53s/cell]\r",
      "Executing:  33%|███▎      | 5/15 [00:09<00:10,  1.02s/cell]\r",
      "Executing:  33%|███▎      | 5/15 [00:09<00:10,  1.03s/cell]\r",
      "Executing:  40%|████      | 6/15 [00:09<00:07,  1.28cell/s]\r",
      "Executing:  40%|████      | 6/15 [00:09<00:07,  1.27cell/s]\r",
      "Executing:  47%|████▋     | 7/15 [00:09<00:05,  1.50cell/s]\r",
      "Executing:  47%|████▋     | 7/15 [00:09<00:05,  1.49cell/s]\r",
      "Executing:  53%|█████▎    | 8/15 [00:09<00:03,  1.94cell/s]\r",
      "Executing:  53%|█████▎    | 8/15 [00:10<00:03,  1.95cell/s]\r",
      "Executing:  60%|██████    | 9/15 [00:18<00:24,  4.06s/cell]\r",
      "Executing:  67%|██████▋   | 10/15 [00:18<00:15,  3.03s/cell]\r",
      "Executing:  73%|███████▎  | 11/15 [00:20<00:10,  2.72s/cell]\r",
      "Executing:  60%|██████    | 9/15 [00:19<00:19,  3.29s/cell]\r",
      "Executing:  60%|██████    | 9/15 [00:19<00:19,  3.30s/cell]\r",
      "Executing:  80%|████████  | 12/15 [00:24<00:08,  2.89s/cell]\r",
      "Executing:  67%|██████▋   | 10/15 [00:19<00:11,  2.36s/cell]\r",
      "Executing:  67%|██████▋   | 10/15 [00:19<00:11,  2.36s/cell]\r",
      "Executing:  87%|████████▋ | 13/15 [00:25<00:04,  2.35s/cell]\r",
      "Executing:  73%|███████▎  | 11/15 [00:21<00:08,  2.10s/cell]\r",
      "Executing:  73%|███████▎  | 11/15 [00:21<00:08,  2.11s/cell]\r",
      "Executing:  93%|█████████▎| 14/15 [00:25<00:01,  1.87s/cell]\r",
      "Executing:  80%|████████  | 12/15 [00:21<00:04,  1.64s/cell]\r",
      "Executing:  80%|████████  | 12/15 [00:21<00:04,  1.63s/cell]\r",
      "Executing: 100%|██████████| 15/15 [00:26<00:00,  1.44s/cell]\r",
      "Executing:  87%|████████▋ | 13/15 [00:22<00:02,  1.39s/cell]\r",
      "Executing:  87%|████████▋ | 13/15 [00:22<00:02,  1.40s/cell]\r",
      "Executing:  93%|█████████▎| 14/15 [00:22<00:01,  1.04s/cell]\r",
      "Executing:  93%|█████████▎| 14/15 [00:22<00:01,  1.04s/cell]\r",
      "Executing: 100%|██████████| 15/15 [00:23<00:00,  1.26cell/s]\r",
      "Executing: 100%|██████████| 15/15 [00:23<00:00,  1.26cell/s]\r",
      "Executing: 100%|██████████| 15/15 [00:29<00:00,  1.94s/cell]\n",
      "\r",
      "Executing: 100%|██████████| 15/15 [00:25<00:00,  1.69s/cell]\n",
      "\r",
      "Executing: 100%|██████████| 15/15 [00:25<00:00,  1.69s/cell]\n"
     ]
    }
   ],
   "source": [
    "%%sh\n",
    "ploomber build --entry-point ml_advanced.pipeline.make"
   ]
  },
  {
   "cell_type": "markdown",
   "id": "caa65939",
   "metadata": {
    "papermill": {
     "duration": 0.028482,
     "end_time": "2021-10-28T01:35:17.243125",
     "exception": false,
     "start_time": "2021-10-28T01:35:17.214643",
     "status": "completed"
    },
    "tags": []
   },
   "source": [
    "## Testing"
   ]
  },
  {
   "cell_type": "code",
   "execution_count": 2,
   "id": "54ee76de",
   "metadata": {
    "execution": {
     "iopub.execute_input": "2021-10-28T01:35:17.398313Z",
     "iopub.status.busy": "2021-10-28T01:35:17.397035Z",
     "iopub.status.idle": "2021-10-28T01:35:56.222825Z",
     "shell.execute_reply": "2021-10-28T01:35:56.224413Z"
    },
    "papermill": {
     "duration": 38.856798,
     "end_time": "2021-10-28T01:35:56.224693",
     "exception": false,
     "start_time": "2021-10-28T01:35:17.367895",
     "status": "completed"
    },
    "tags": []
   },
   "outputs": [
    {
     "name": "stdout",
     "output_type": "stream",
     "text": [
      "============================= test session starts ==============================\n",
      "platform darwin -- Python 3.9.7, pytest-6.2.5, py-1.10.0, pluggy-1.0.0\n",
      "rootdir: /Users/Edu/dev/projects-ploomber/templates/ml-advanced\n",
      "plugins: Faker-9.2.0, anyio-3.3.3\n",
      "collected 1 item\n",
      "\n",
      "tests/test_pipeline.py .                                                 [100%]\n",
      "\n",
      "=============================== warnings summary ===============================\n",
      "../../../../miniconda3/envs/projects/lib/python3.9/site-packages/ansiwrap/core.py:6\n",
      "  /Users/Edu/miniconda3/envs/projects/lib/python3.9/site-packages/ansiwrap/core.py:6: DeprecationWarning: the imp module is deprecated in favour of importlib; see the module's documentation for alternative uses\n",
      "    import imp\n",
      "\n",
      "tests/test_pipeline.py: 42 warnings\n",
      "  /Users/Edu/miniconda3/envs/projects/lib/python3.9/site-packages/jsonschema/validators.py:190: DeprecationWarning: Passing a schema to Validator.iter_errors is deprecated and will be removed in a future release. Call validator.evolve(schema=new_schema).iter_errors(...) instead.\n",
      "    warnings.warn(\n",
      "\n",
      "tests/test_pipeline.py::test_pipeline\n",
      "  /Users/Edu/dev/ploomber/src/ploomber/dag/dag.py:390: UserWarning: \n",
      "  =========================== DAG render with warnings ===========================\n",
      "  - NotebookRunner: fit-sklearn--ensemble--RandomForestClassifier -> MetaProduct({'model': File('output-...ifier.joblib'), 'nb': File('output-...sifier.ipynb')}) -\n",
      "  - /Users/Edu/miniconda3/envs/projects/lib/python3.9/site-packages/ml_advanced/templates/fit.py -\n",
      "  Passing a schema to Validator.iter_errors is deprecated and will be removed in a future release. Call validator.evolve(schema=new_schema).iter_errors(...) instead.\n",
      "  - NotebookRunner: fit-ml-advanced--models--logistic-reg -> MetaProduct({'model': File('output-...c_reg.joblib'), 'nb': File('output-...ic_reg.ipynb')}) -\n",
      "  - /Users/Edu/miniconda3/envs/projects/lib/python3.9/site-packages/ml_advanced/templates/fit.py -\n",
      "  Passing a schema to Validator.iter_errors is deprecated and will be removed in a future release. Call validator.evolve(schema=new_schema).iter_errors(...) instead.\n",
      "  - NotebookRunner: fit-ml-advanced--models--svc -> MetaProduct({'model': File('output-...s.svc.joblib'), 'nb': File('output-...ls.svc.ipynb')}) -\n",
      "  - /Users/Edu/miniconda3/envs/projects/lib/python3.9/site-packages/ml_advanced/templates/fit.py -\n",
      "  Passing a schema to Validator.iter_errors is deprecated and will be removed in a future release. Call validator.evolve(schema=new_schema).iter_errors(...) instead.\n",
      "  ============================== Summary (3 tasks) ===============================\n",
      "  NotebookRunner: fit-sklearn--ensemble--RandomForestClassifier -> MetaProduct({'model': File('output-...ifier.joblib'), 'nb': File('output-...sifier.ipynb')})\n",
      "  NotebookRunner: fit-ml-advanced--models--logistic-reg -> MetaProduct({'model': File('output-...c_reg.joblib'), 'nb': File('output-...ic_reg.ipynb')})\n",
      "  NotebookRunner: fit-ml-advanced--models--svc -> MetaProduct({'model': File('output-...s.svc.joblib'), 'nb': File('output-...ls.svc.ipynb')})\n",
      "  =========================== DAG render with warnings ===========================\n",
      "  \n",
      "    warnings.warn(str(warnings_))\n",
      "\n",
      "tests/test_pipeline.py::test_pipeline\n",
      "  /Users/Edu/dev/ploomber/src/ploomber/executors/serial.py:126: UserWarning: \n",
      "  =========================== DAG build with warnings ============================\n",
      "  - NotebookRunner: fit-sklearn--ensemble--RandomForestClassifier -> MetaProduct({'model': File('output-...ifier.joblib'), 'nb': File('output-...sifier.ipynb')}) -\n",
      "  - /Users/Edu/miniconda3/envs/projects/lib/python3.9/site-packages/ml_advanced/templates/fit.py -\n",
      "  Passing unrecognized arguments to super(PapermillNotebookClient).__init__(input_path='/var/folders/3h/_lvh_w_x5g30rrjzb_xnn2j80000gq/T/tmpyywycnd3.ipynb').\n",
      "  object.__init__() takes exactly one argument (the instance to initialize)\n",
      "  This is deprecated in traitlets 4.2.This error will be raised in a future release of traitlets.\n",
      "  Passing a schema to Validator.iter_errors is deprecated and will be removed in a future release. Call validator.evolve(schema=new_schema).iter_errors(...) instead.\n",
      "  Passing a schema to Validator.iter_errors is deprecated and will be removed in a future release. Call validator.evolve(schema=new_schema).iter_errors(...) instead.\n",
      "  Passing a schema to Validator.iter_errors is deprecated and will be removed in a future release. Call validator.evolve(schema=new_schema).iter_errors(...) instead.\n",
      "  Passing a schema to Validator.iter_errors is deprecated and will be removed in a future release. Call validator.evolve(schema=new_schema).iter_errors(...) instead.\n",
      "  Passing a schema to Validator.iter_errors is deprecated and will be removed in a future release. Call validator.evolve(schema=new_schema).iter_errors(...) instead.\n",
      "  Passing a schema to Validator.iter_errors is deprecated and will be removed in a future release. Call validator.evolve(schema=new_schema).iter_errors(...) instead.\n",
      "  Passing a schema to Validator.iter_errors is deprecated and will be removed in a future release. Call validator.evolve(schema=new_schema).iter_errors(...) instead.\n",
      "  Passing a schema to Validator.iter_errors is deprecated and will be removed in a future release. Call validator.evolve(schema=new_schema).iter_errors(...) instead.\n",
      "  Passing a schema to Validator.iter_errors is deprecated and will be removed in a future release. Call validator.evolve(schema=new_schema).iter_errors(...) instead.\n",
      "  Passing a schema to Validator.iter_errors is deprecated and will be removed in a future release. Call validator.evolve(schema=new_schema).iter_errors(...) instead.\n",
      "  - NotebookRunner: fit-ml-advanced--models--logistic-reg -> MetaProduct({'model': File('output-...c_reg.joblib'), 'nb': File('output-...ic_reg.ipynb')}) -\n",
      "  - /Users/Edu/miniconda3/envs/projects/lib/python3.9/site-packages/ml_advanced/templates/fit.py -\n",
      "  Passing unrecognized arguments to super(PapermillNotebookClient).__init__(input_path='/var/folders/3h/_lvh_w_x5g30rrjzb_xnn2j80000gq/T/tmpb2tgg2pf.ipynb').\n",
      "  object.__init__() takes exactly one argument (the instance to initialize)\n",
      "  This is deprecated in traitlets 4.2.This error will be raised in a future release of traitlets.\n",
      "  Passing a schema to Validator.iter_errors is deprecated and will be removed in a future release. Call validator.evolve(schema=new_schema).iter_errors(...) instead.\n",
      "  Passing a schema to Validator.iter_errors is deprecated and will be removed in a future release. Call validator.evolve(schema=new_schema).iter_errors(...) instead.\n",
      "  Passing a schema to Validator.iter_errors is deprecated and will be removed in a future release. Call validator.evolve(schema=new_schema).iter_errors(...) instead.\n",
      "  Passing a schema to Validator.iter_errors is deprecated and will be removed in a future release. Call validator.evolve(schema=new_schema).iter_errors(...) instead.\n",
      "  Passing a schema to Validator.iter_errors is deprecated and will be removed in a future release. Call validator.evolve(schema=new_schema).iter_errors(...) instead.\n",
      "  Passing a schema to Validator.iter_errors is deprecated and will be removed in a future release. Call validator.evolve(schema=new_schema).iter_errors(...) instead.\n",
      "  Passing a schema to Validator.iter_errors is deprecated and will be removed in a future release. Call validator.evolve(schema=new_schema).iter_errors(...) instead.\n",
      "  Passing a schema to Validator.iter_errors is deprecated and will be removed in a future release. Call validator.evolve(schema=new_schema).iter_errors(...) instead.\n",
      "  Passing a schema to Validator.iter_errors is deprecated and will be removed in a future release. Call validator.evolve(schema=new_schema).iter_errors(...) instead.\n",
      "  Passing a schema to Validator.iter_errors is deprecated and will be removed in a future release. Call validator.evolve(schema=new_schema).iter_errors(...) instead.\n",
      "  - NotebookRunner: fit-ml-advanced--models--svc -> MetaProduct({'model': File('output-...s.svc.joblib'), 'nb': File('output-...ls.svc.ipynb')}) -\n",
      "  - /Users/Edu/miniconda3/envs/projects/lib/python3.9/site-packages/ml_advanced/templates/fit.py -\n",
      "  Passing unrecognized arguments to super(PapermillNotebookClient).__init__(input_path='/var/folders/3h/_lvh_w_x5g30rrjzb_xnn2j80000gq/T/tmprk5a3wvk.ipynb').\n",
      "  object.__init__() takes exactly one argument (the instance to initialize)\n",
      "  This is deprecated in traitlets 4.2.This error will be raised in a future release of traitlets.\n",
      "  Passing a schema to Validator.iter_errors is deprecated and will be removed in a future release. Call validator.evolve(schema=new_schema).iter_errors(...) instead.\n",
      "  Passing a schema to Validator.iter_errors is deprecated and will be removed in a future release. Call validator.evolve(schema=new_schema).iter_errors(...) instead.\n",
      "  Passing a schema to Validator.iter_errors is deprecated and will be removed in a future release. Call validator.evolve(schema=new_schema).iter_errors(...) instead.\n",
      "  Passing a schema to Validator.iter_errors is deprecated and will be removed in a future release. Call validator.evolve(schema=new_schema).iter_errors(...) instead.\n",
      "  Passing a schema to Validator.iter_errors is deprecated and will be removed in a future release. Call validator.evolve(schema=new_schema).iter_errors(...) instead.\n",
      "  Passing a schema to Validator.iter_errors is deprecated and will be removed in a future release. Call validator.evolve(schema=new_schema).iter_errors(...) instead.\n",
      "  Passing a schema to Validator.iter_errors is deprecated and will be removed in a future release. Call validator.evolve(schema=new_schema).iter_errors(...) instead.\n",
      "  Passing a schema to Validator.iter_errors is deprecated and will be removed in a future release. Call validator.evolve(schema=new_schema).iter_errors(...) instead.\n",
      "  Passing a schema to Validator.iter_errors is deprecated and will be removed in a future release. Call validator.evolve(schema=new_schema).iter_errors(...) instead.\n",
      "  ============================== Summary (3 tasks) ===============================\n",
      "  NotebookRunner: fit-sklearn--ensemble--RandomForestClassifier -> MetaProduct({'model': File('output-...ifier.joblib'), 'nb': File('output-...sifier.ipynb')})\n",
      "  NotebookRunner: fit-ml-advanced--models--logistic-reg -> MetaProduct({'model': File('output-...c_reg.joblib'), 'nb': File('output-...ic_reg.ipynb')})\n",
      "  NotebookRunner: fit-ml-advanced--models--svc -> MetaProduct({'model': File('output-...s.svc.joblib'), 'nb': File('output-...ls.svc.ipynb')})\n",
      "  =========================== DAG build with warnings ============================\n",
      "  \n",
      "    warnings.warn(str(warnings_all))\n",
      "\n",
      "tests/test_pipeline.py::test_pipeline\n",
      "  /Users/Edu/dev/ploomber/src/ploomber/dag/dag.py:246: UserWarning: The DAG \"ml-pipeline\" entered in an inconsistent state: trying to set DAG status to DAGStatus.Executed but executor returned tasks whose status is not TaskStatus.Executed nor TaskStatus.Skipped, returned status: {<TaskStatus.WaitingUpstream: 'waiting_upstream'>, <TaskStatus.WaitingExecution: 'waiting_execution'>}\n",
      "    warnings.warn('The DAG \"{}\" entered in an inconsistent '\n",
      "\n",
      "-- Docs: https://docs.pytest.org/en/stable/warnings.html\n",
      "======================= 1 passed, 46 warnings in 37.60s ========================\n"
     ]
    }
   ],
   "source": [
    "%%bash\n",
    "# complete (force execution of all tasks)\n",
    "pytest --force"
   ]
  },
  {
   "cell_type": "code",
   "execution_count": 3,
   "id": "aa8cf4e9",
   "metadata": {
    "execution": {
     "iopub.execute_input": "2021-10-28T01:35:56.264795Z",
     "iopub.status.busy": "2021-10-28T01:35:56.263884Z",
     "iopub.status.idle": "2021-10-28T01:36:01.121696Z",
     "shell.execute_reply": "2021-10-28T01:36:01.122397Z"
    },
    "papermill": {
     "duration": 4.883103,
     "end_time": "2021-10-28T01:36:01.122670",
     "exception": false,
     "start_time": "2021-10-28T01:35:56.239567",
     "status": "completed"
    },
    "tags": []
   },
   "outputs": [
    {
     "name": "stdout",
     "output_type": "stream",
     "text": [
      "============================= test session starts ==============================\n",
      "platform darwin -- Python 3.9.7, pytest-6.2.5, py-1.10.0, pluggy-1.0.0\n",
      "rootdir: /Users/Edu/dev/projects-ploomber/templates/ml-advanced\n",
      "plugins: Faker-9.2.0, anyio-3.3.3\n",
      "collected 1 item\n",
      "\n",
      "tests/test_pipeline.py .                                                 [100%]\n",
      "\n",
      "=============================== warnings summary ===============================\n",
      "../../../../miniconda3/envs/projects/lib/python3.9/site-packages/ansiwrap/core.py:6\n",
      "  /Users/Edu/miniconda3/envs/projects/lib/python3.9/site-packages/ansiwrap/core.py:6: DeprecationWarning: the imp module is deprecated in favour of importlib; see the module's documentation for alternative uses\n",
      "    import imp\n",
      "\n",
      "tests/test_pipeline.py: 42 warnings\n",
      "  /Users/Edu/miniconda3/envs/projects/lib/python3.9/site-packages/jsonschema/validators.py:190: DeprecationWarning: Passing a schema to Validator.iter_errors is deprecated and will be removed in a future release. Call validator.evolve(schema=new_schema).iter_errors(...) instead.\n",
      "    warnings.warn(\n",
      "\n",
      "tests/test_pipeline.py::test_pipeline\n",
      "  /Users/Edu/dev/ploomber/src/ploomber/dag/dag.py:390: UserWarning: \n",
      "  =========================== DAG render with warnings ===========================\n",
      "  - NotebookRunner: fit-sklearn--ensemble--RandomForestClassifier -> MetaProduct({'model': File('output-...ifier.joblib'), 'nb': File('output-...sifier.ipynb')}) -\n",
      "  - /Users/Edu/miniconda3/envs/projects/lib/python3.9/site-packages/ml_advanced/templates/fit.py -\n",
      "  Passing a schema to Validator.iter_errors is deprecated and will be removed in a future release. Call validator.evolve(schema=new_schema).iter_errors(...) instead.\n",
      "  - NotebookRunner: fit-ml-advanced--models--logistic-reg -> MetaProduct({'model': File('output-...c_reg.joblib'), 'nb': File('output-...ic_reg.ipynb')}) -\n",
      "  - /Users/Edu/miniconda3/envs/projects/lib/python3.9/site-packages/ml_advanced/templates/fit.py -\n",
      "  Passing a schema to Validator.iter_errors is deprecated and will be removed in a future release. Call validator.evolve(schema=new_schema).iter_errors(...) instead.\n",
      "  - NotebookRunner: fit-ml-advanced--models--svc -> MetaProduct({'model': File('output-...s.svc.joblib'), 'nb': File('output-...ls.svc.ipynb')}) -\n",
      "  - /Users/Edu/miniconda3/envs/projects/lib/python3.9/site-packages/ml_advanced/templates/fit.py -\n",
      "  Passing a schema to Validator.iter_errors is deprecated and will be removed in a future release. Call validator.evolve(schema=new_schema).iter_errors(...) instead.\n",
      "  ============================== Summary (3 tasks) ===============================\n",
      "  NotebookRunner: fit-sklearn--ensemble--RandomForestClassifier -> MetaProduct({'model': File('output-...ifier.joblib'), 'nb': File('output-...sifier.ipynb')})\n",
      "  NotebookRunner: fit-ml-advanced--models--logistic-reg -> MetaProduct({'model': File('output-...c_reg.joblib'), 'nb': File('output-...ic_reg.ipynb')})\n",
      "  NotebookRunner: fit-ml-advanced--models--svc -> MetaProduct({'model': File('output-...s.svc.joblib'), 'nb': File('output-...ls.svc.ipynb')})\n",
      "  =========================== DAG render with warnings ===========================\n",
      "  \n",
      "    warnings.warn(str(warnings_))\n",
      "\n",
      "-- Docs: https://docs.pytest.org/en/stable/warnings.html\n",
      "======================== 1 passed, 44 warnings in 3.90s ========================\n"
     ]
    }
   ],
   "source": [
    "%%bash\n",
    "# incremental (will only run the tasks that have changed)\n",
    "pytest"
   ]
  }
 ],
 "metadata": {
  "kernelspec": {
   "display_name": "Python 3 (ipykernel)",
   "language": "python",
   "name": "python3"
  },
  "language_info": {
   "codemirror_mode": {
    "name": "ipython",
    "version": 3
   },
   "file_extension": ".py",
   "mimetype": "text/x-python",
   "name": "python",
   "nbconvert_exporter": "python",
   "pygments_lexer": "ipython3",
   "version": "3.9.7"
  },
  "papermill": {
   "default_parameters": {},
   "duration": 87.972891,
   "end_time": "2021-10-28T01:36:01.371673",
   "environment_variables": {},
   "exception": null,
   "input_path": "templates/ml-advanced/_build/readme_preprocessed.ipynb",
   "output_path": "templates/ml-advanced/README.ipynb",
   "parameters": {},
   "start_time": "2021-10-28T01:34:33.398782",
   "version": "2.3.3"
  }
 },
 "nbformat": 4,
 "nbformat_minor": 5
}